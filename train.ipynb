{
 "cells": [
  {
   "cell_type": "code",
   "execution_count": 1,
   "metadata": {
    "collapsed": true
   },
   "outputs": [],
   "source": [
    "import sys\n",
    "import base64\n",
    "import random\n",
    "import chardet\n",
    "import codecs\n",
    "import json\n",
    "\n",
    "import numpy as np\n",
    "\n",
    "from re import sub\n",
    "from collections import defaultdict\n",
    "\n",
    "from collections import defaultdict, Counter\n",
    "\n",
    "import pickle\n",
    "\n",
    "from sklearn.feature_extraction import DictVectorizer"
   ]
  },
  {
   "cell_type": "code",
   "execution_count": 2,
   "metadata": {
    "collapsed": false
   },
   "outputs": [],
   "source": [
    "def read_x(path, dv, max_count = None):\n",
    "    f = open(path, \"r\")\n",
    "    \n",
    "    p = f.readline().decode('utf-8')\n",
    "    \n",
    "    dict_list = []\n",
    "    l_id = 0\n",
    "    while p != '':\n",
    "#         print l_id, len(dict_list)\n",
    "        dict_list  += split.get_features(p, max_count)\n",
    "        \n",
    "        p = f.readline().decode('utf-8')\n",
    "        l_id += 1\n",
    "        \n",
    "    \n",
    "    \n",
    "    \n",
    "    \n",
    "    return dv.fit_transform(dict_list), dv\n",
    "    "
   ]
  },
  {
   "cell_type": "code",
   "execution_count": 82,
   "metadata": {
    "collapsed": false
   },
   "outputs": [],
   "source": [
    "def read_y(path, max_count = None):\n",
    "    f = open(path, \"r\")\n",
    "    result = []\n",
    "   \n",
    "    \n",
    "    p = f.readline()\n",
    "    \n",
    "    total_read = 0\n",
    "    l_id = 0\n",
    "    while p != '':\n",
    "        p = json.loads(p)\n",
    "        tmp = []\n",
    "     \n",
    "        for sentence in p[\"Sentences\"]:\n",
    "            n = sentence.count('.')\n",
    "            if sentence[-1] == '.':\n",
    "                n -= 1\n",
    "            tmp += [0] * n\n",
    "            if sentence[-1] == '.':\n",
    "                tmp.append(1)\n",
    "            total_read += n\n",
    "        \n",
    "            \n",
    "            if max_count is not None and total_read >= max_count:\n",
    "                return np.array(result)\n",
    "        \n",
    "#         if l_id == 77:\n",
    "#             print tmp\n",
    "#             for sentence in p[\"Sentences\"]:\n",
    "#                 print sentence\n",
    "#                 n = sentence.count('.')\n",
    "#                 print n\n",
    "#                 print sentence[-1]\n",
    "#                 if sentence[-1] == '.':\n",
    "#                     n -= 1\n",
    "# #                     tmp += [0] * n\n",
    "#                 print n\n",
    "                \n",
    "            \n",
    "#         print l_id\n",
    "#         print tmp\n",
    "#         print p[\"Paragraph\"]\n",
    "#         print l_id, len(result)\n",
    "        result += tmp\n",
    "        \n",
    "        p = f.readline()\n",
    "        l_id += 1\n",
    "            \n",
    "    \n",
    "    return np.array(result)"
   ]
  },
  {
   "cell_type": "code",
   "execution_count": 98,
   "metadata": {
    "collapsed": false
   },
   "outputs": [
    {
     "data": {
      "text/plain": [
       "<module 'split' from 'split.py'>"
      ]
     },
     "execution_count": 98,
     "metadata": {},
     "output_type": "execute_result"
    }
   ],
   "source": [
    "import split\n",
    "reload(split)"
   ]
  },
  {
   "cell_type": "code",
   "execution_count": 99,
   "metadata": {
    "collapsed": false,
    "scrolled": true
   },
   "outputs": [],
   "source": [
    "x, dv = read_x(\"gold.txt\", DictVectorizer(sparse=False), max_count=None)"
   ]
  },
  {
   "cell_type": "code",
   "execution_count": 100,
   "metadata": {
    "collapsed": true
   },
   "outputs": [],
   "source": [
    "from sklearn.tree import DecisionTreeClassifier"
   ]
  },
  {
   "cell_type": "code",
   "execution_count": 101,
   "metadata": {
    "collapsed": false,
    "scrolled": true
   },
   "outputs": [],
   "source": [
    "y = read_y(\"gold.json\", max_count = None)"
   ]
  },
  {
   "cell_type": "code",
   "execution_count": 102,
   "metadata": {
    "collapsed": false
   },
   "outputs": [
    {
     "data": {
      "text/plain": [
       "380"
      ]
     },
     "execution_count": 102,
     "metadata": {},
     "output_type": "execute_result"
    }
   ],
   "source": [
    "len(y)"
   ]
  },
  {
   "cell_type": "code",
   "execution_count": 103,
   "metadata": {
    "collapsed": false
   },
   "outputs": [
    {
     "data": {
      "text/plain": [
       "(380, 11)"
      ]
     },
     "execution_count": 103,
     "metadata": {},
     "output_type": "execute_result"
    }
   ],
   "source": [
    "x.shape"
   ]
  },
  {
   "cell_type": "code",
   "execution_count": 104,
   "metadata": {
    "collapsed": false
   },
   "outputs": [
    {
     "data": {
      "text/plain": [
       "array([[   0.,    0.,    0.,   62.,    1.,    0.,    0.,    0.,    0.,\n",
       "           0.,    1.],\n",
       "       [   0.,    0.,    1.,    9.,    1.,    0.,   10.,    0.,    0.,\n",
       "          62.,    1.],\n",
       "       [   0.,    0.,    7.,  104.,    1.,    0.,    2.,    0.,    0.,\n",
       "           9.,    1.],\n",
       "       [   0.,    0.,    6.,   10.,    1.,    0.,   14.,    0.,    0.,\n",
       "         104.,    1.],\n",
       "       [   0.,    0.,    1.,    3.,    0.,    0.,    4.,    0.,    0.,\n",
       "          10.,    1.],\n",
       "       [   0.,    0.,    1.,  108.,    0.,    0.,    2.,    0.,    0.,\n",
       "           3.,    1.],\n",
       "       [   0.,    0.,   10.,  108.,    1.,    0.,   13.,    0.,    0.,\n",
       "         108.,    1.],\n",
       "       [   0.,    1.,   13.,    1.,    0.,    1.,   12.,    0.,    0.,\n",
       "         108.,    0.],\n",
       "       [   0.,    0.,    0.,  160.,    0.,    0.,    0.,    0.,    0.,\n",
       "           0.,    1.],\n",
       "       [   0.,    0.,   13.,  113.,    1.,    0.,   23.,    0.,    0.,\n",
       "         160.,    1.],\n",
       "       [   0.,    1.,    8.,    1.,    0.,    1.,   16.,    0.,    0.,\n",
       "         113.,    0.],\n",
       "       [   0.,    0.,    0.,   16.,    1.,    0.,    0.,    0.,    0.,\n",
       "           0.,    1.],\n",
       "       [   0.,    0.,    7.,   96.,    1.,    0.,    3.,    0.,    0.,\n",
       "          16.,    1.],\n",
       "       [   0.,    0.,    4.,   76.,    1.,    0.,   16.,    0.,    0.,\n",
       "          96.,    1.],\n",
       "       [   0.,    0.,   12.,  115.,    1.,    0.,   11.,    0.,    0.,\n",
       "          76.,    1.],\n",
       "       [   0.,    0.,    9.,  152.,    1.,    0.,   18.,    0.,    0.,\n",
       "         115.,    1.],\n",
       "       [   0.,    0.,   11.,   78.,    1.,    0.,   19.,    0.,    0.,\n",
       "         152.,    1.],\n",
       "       [   0.,    1.,    9.,    1.,    0.,    1.,   13.,    0.,    0.,\n",
       "          78.,    0.],\n",
       "       [   0.,    0.,    0.,   57.,    1.,    0.,    0.,    0.,    0.,\n",
       "           0.,    1.],\n",
       "       [   0.,    0.,   11.,  250.,    1.,    0.,   10.,    0.,    0.,\n",
       "          57.,    1.],\n",
       "       [   0.,    1.,    5.,    1.,    0.,    1.,   30.,    0.,    0.,\n",
       "         250.,    0.],\n",
       "       [   0.,    0.,    0.,   79.,    1.,    0.,    0.,    0.,    0.,\n",
       "           0.,    1.],\n",
       "       [   0.,    0.,    3.,   61.,    0.,    0.,   12.,    0.,    0.,\n",
       "          79.,    1.],\n",
       "       [   0.,    0.,    8.,   66.,    1.,    0.,    7.,    0.,    0.,\n",
       "          61.,    1.],\n",
       "       [   0.,    0.,    8.,   62.,    1.,    0.,   11.,    0.,    0.,\n",
       "          66.,    1.]])"
      ]
     },
     "execution_count": 104,
     "metadata": {},
     "output_type": "execute_result"
    }
   ],
   "source": [
    "x[:25]"
   ]
  },
  {
   "cell_type": "code",
   "execution_count": 105,
   "metadata": {
    "collapsed": false,
    "scrolled": false
   },
   "outputs": [],
   "source": [
    "from sklearn.cross_validation import cross_val_score \n",
    "from sklearn.ensemble import GradientBoostingClassifier"
   ]
  },
  {
   "cell_type": "code",
   "execution_count": 106,
   "metadata": {
    "collapsed": false
   },
   "outputs": [],
   "source": [
    "# model = DecisionTreeClassifier()\n",
    "model = GradientBoostingClassifier(n_estimators=1000)"
   ]
  },
  {
   "cell_type": "code",
   "execution_count": 107,
   "metadata": {
    "collapsed": false
   },
   "outputs": [],
   "source": [
    "scores = cross_val_score(model, x, y, cv = 5, scoring='accuracy')"
   ]
  },
  {
   "cell_type": "code",
   "execution_count": 108,
   "metadata": {
    "collapsed": false
   },
   "outputs": [
    {
     "name": "stdout",
     "output_type": "stream",
     "text": [
      "[ 0.88157895  0.93421053  0.92105263  0.94736842  0.97368421]\n",
      "0.931578947368\n"
     ]
    }
   ],
   "source": [
    "print scores\n",
    "print scores.mean()"
   ]
  },
  {
   "cell_type": "code",
   "execution_count": 109,
   "metadata": {
    "collapsed": false
   },
   "outputs": [],
   "source": [
    "model = model.fit(x, y)"
   ]
  },
  {
   "cell_type": "code",
   "execution_count": 110,
   "metadata": {
    "collapsed": false
   },
   "outputs": [],
   "source": [
    "pickle.dump(model, open(\"model.pickle\", \"w\"))"
   ]
  },
  {
   "cell_type": "code",
   "execution_count": 111,
   "metadata": {
    "collapsed": true
   },
   "outputs": [],
   "source": [
    "pickle.dump(dv, open(\"vectorizer.pickle\", \"w\"))"
   ]
  },
  {
   "cell_type": "code",
   "execution_count": null,
   "metadata": {
    "collapsed": true
   },
   "outputs": [],
   "source": []
  },
  {
   "cell_type": "code",
   "execution_count": 21,
   "metadata": {
    "collapsed": false
   },
   "outputs": [],
   "source": []
  },
  {
   "cell_type": "code",
   "execution_count": null,
   "metadata": {
    "collapsed": true
   },
   "outputs": [],
   "source": []
  }
 ],
 "metadata": {
  "kernelspec": {
   "display_name": "Python 2",
   "language": "python",
   "name": "python2"
  },
  "language_info": {
   "codemirror_mode": {
    "name": "ipython",
    "version": 2
   },
   "file_extension": ".py",
   "mimetype": "text/x-python",
   "name": "python",
   "nbconvert_exporter": "python",
   "pygments_lexer": "ipython2",
   "version": "2.7.9"
  }
 },
 "nbformat": 4,
 "nbformat_minor": 0
}
