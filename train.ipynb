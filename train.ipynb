{
 "cells": [
  {
   "cell_type": "code",
   "execution_count": 61,
   "metadata": {
    "collapsed": true
   },
   "outputs": [],
   "source": [
    "import sys\n",
    "import base64\n",
    "import random\n",
    "import chardet\n",
    "import codecs\n",
    "import json\n",
    "\n",
    "import numpy as np\n",
    "\n",
    "from re import sub\n",
    "from collections import defaultdict\n",
    "\n",
    "from collections import defaultdict, Counter\n",
    "\n",
    "import pickle\n",
    "\n",
    "from sklearn.feature_extraction import DictVectorizer"
   ]
  },
  {
   "cell_type": "code",
   "execution_count": 990,
   "metadata": {
    "collapsed": false
   },
   "outputs": [],
   "source": [
    "def read_x(path, dv, max_count = None):\n",
    "    f = open(path, \"r\")\n",
    "    \n",
    "    p = f.readline().decode('utf-8')\n",
    "    \n",
    "    dict_list = []\n",
    "    l_id = 0\n",
    "    while p != '':\n",
    "#         print l_id, len(dict_list)\n",
    "        dict_list  += split.get_features(p, max_count)\n",
    "        \n",
    "        p = f.readline().decode('utf-8')\n",
    "        l_id += 1\n",
    "        \n",
    "    \n",
    "    \n",
    "    \n",
    "    \n",
    "    return dv.fit_transform(dict_list), dv\n",
    "    "
   ]
  },
  {
   "cell_type": "code",
   "execution_count": 991,
   "metadata": {
    "collapsed": false
   },
   "outputs": [],
   "source": [
    "def read_y(path, max_count = None):\n",
    "    f = open(path, \"r\")\n",
    "    result = []\n",
    "   \n",
    "    \n",
    "    p = f.readline()\n",
    "    \n",
    "    total_read = 0\n",
    "    l_id = 0\n",
    "    while p != '':\n",
    "        p = json.loads(p)\n",
    "        tmp = []\n",
    "     \n",
    "        for sentence in p[\"Sentences\"]:\n",
    "            n = sentence.count('.')\n",
    "            if sentence[-1] == '.':\n",
    "                n -= 1\n",
    "            tmp += [0] * n\n",
    "            if sentence[-1] == '.':\n",
    "                tmp.append(1)\n",
    "            total_read += n\n",
    "        \n",
    "            \n",
    "            if max_count is not None and total_read >= max_count:\n",
    "                return np.array(result)\n",
    "        \n",
    "#         if l_id == 77:\n",
    "#             print tmp\n",
    "#             for sentence in p[\"Sentences\"]:\n",
    "#                 print sentence\n",
    "#                 n = sentence.count('.')\n",
    "#                 print n\n",
    "#                 print sentence[-1]\n",
    "#                 if sentence[-1] == '.':\n",
    "#                     n -= 1\n",
    "# #                     tmp += [0] * n\n",
    "#                 print n\n",
    "                \n",
    "            \n",
    "#         print l_id\n",
    "#         print tmp\n",
    "#         print p[\"Paragraph\"]\n",
    "#         print l_id, len(result)\n",
    "        result += tmp\n",
    "        \n",
    "        p = f.readline()\n",
    "        l_id += 1\n",
    "            \n",
    "    \n",
    "    return np.array(result)"
   ]
  },
  {
   "cell_type": "code",
   "execution_count": 1009,
   "metadata": {
    "collapsed": false
   },
   "outputs": [
    {
     "data": {
      "text/plain": [
       "<module 'split' from 'split.py'>"
      ]
     },
     "execution_count": 1009,
     "metadata": {},
     "output_type": "execute_result"
    }
   ],
   "source": [
    "import split\n",
    "reload(split)"
   ]
  },
  {
   "cell_type": "code",
   "execution_count": 995,
   "metadata": {
    "collapsed": false,
    "scrolled": true
   },
   "outputs": [],
   "source": [
    "x, dv = read_x(\"gold.txt\", DictVectorizer(sparse=False), max_count=None)"
   ]
  },
  {
   "cell_type": "code",
   "execution_count": 996,
   "metadata": {
    "collapsed": true
   },
   "outputs": [],
   "source": [
    "from sklearn.tree import DecisionTreeClassifier"
   ]
  },
  {
   "cell_type": "code",
   "execution_count": 997,
   "metadata": {
    "collapsed": false,
    "scrolled": true
   },
   "outputs": [],
   "source": [
    "y = read_y(\"gold.json\", max_count = None)"
   ]
  },
  {
   "cell_type": "code",
   "execution_count": 998,
   "metadata": {
    "collapsed": false
   },
   "outputs": [
    {
     "data": {
      "text/plain": [
       "380"
      ]
     },
     "execution_count": 998,
     "metadata": {},
     "output_type": "execute_result"
    }
   ],
   "source": [
    "len(y)"
   ]
  },
  {
   "cell_type": "code",
   "execution_count": 999,
   "metadata": {
    "collapsed": false
   },
   "outputs": [
    {
     "data": {
      "text/plain": [
       "(380, 4)"
      ]
     },
     "execution_count": 999,
     "metadata": {},
     "output_type": "execute_result"
    }
   ],
   "source": [
    "x.shape"
   ]
  },
  {
   "cell_type": "code",
   "execution_count": 1001,
   "metadata": {
    "collapsed": false
   },
   "outputs": [],
   "source": [
    "# x[:100]"
   ]
  },
  {
   "cell_type": "code",
   "execution_count": 1002,
   "metadata": {
    "collapsed": false,
    "scrolled": false
   },
   "outputs": [],
   "source": [
    "from sklearn.cross_validation import cross_val_score "
   ]
  },
  {
   "cell_type": "code",
   "execution_count": 1003,
   "metadata": {
    "collapsed": true
   },
   "outputs": [],
   "source": [
    "dt = DecisionTreeClassifier()"
   ]
  },
  {
   "cell_type": "code",
   "execution_count": 1004,
   "metadata": {
    "collapsed": false
   },
   "outputs": [],
   "source": [
    "scores = cross_val_score(dt, x, y, cv = 5, scoring='accuracy')"
   ]
  },
  {
   "cell_type": "code",
   "execution_count": 1005,
   "metadata": {
    "collapsed": false
   },
   "outputs": [
    {
     "name": "stdout",
     "output_type": "stream",
     "text": [
      "[ 0.88157895  0.92105263  0.89473684  0.89473684  0.85526316]\n",
      "0.889473684211\n"
     ]
    }
   ],
   "source": [
    "print scores\n",
    "print scores.mean()"
   ]
  },
  {
   "cell_type": "code",
   "execution_count": 1006,
   "metadata": {
    "collapsed": true
   },
   "outputs": [],
   "source": [
    "dt = dt.fit(x, y)"
   ]
  },
  {
   "cell_type": "code",
   "execution_count": 1007,
   "metadata": {
    "collapsed": false
   },
   "outputs": [],
   "source": [
    "pickle.dump(dt, open(\"model.pickle\", \"w\"))"
   ]
  },
  {
   "cell_type": "code",
   "execution_count": 1008,
   "metadata": {
    "collapsed": true
   },
   "outputs": [],
   "source": [
    "pickle.dump(dv, open(\"vectorizer.pickle\", \"w\"))"
   ]
  },
  {
   "cell_type": "code",
   "execution_count": null,
   "metadata": {
    "collapsed": true
   },
   "outputs": [],
   "source": []
  }
 ],
 "metadata": {
  "kernelspec": {
   "display_name": "Python 2",
   "language": "python",
   "name": "python2"
  },
  "language_info": {
   "codemirror_mode": {
    "name": "ipython",
    "version": 2
   },
   "file_extension": ".py",
   "mimetype": "text/x-python",
   "name": "python",
   "nbconvert_exporter": "python",
   "pygments_lexer": "ipython2",
   "version": "2.7.9"
  }
 },
 "nbformat": 4,
 "nbformat_minor": 0
}
